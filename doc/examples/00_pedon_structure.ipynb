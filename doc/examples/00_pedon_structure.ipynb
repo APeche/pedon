{
 "cells": [
  {
   "attachments": {},
   "cell_type": "markdown",
   "metadata": {},
   "source": [
    "**Package Structure**"
   ]
  },
  {
   "cell_type": "code",
   "execution_count": 31,
   "metadata": {},
   "outputs": [],
   "source": [
    "import sys\n",
    "import inspect\n",
    "import pedon as pe"
   ]
  },
  {
   "cell_type": "code",
   "execution_count": 41,
   "metadata": {},
   "outputs": [
    {
     "data": {
      "text/plain": [
       "{'name': str,\n",
       " 'type': str | None,\n",
       " 'model': pedon.soilmodel.SoilModel | None,\n",
       " 'sample': pedon.soil.SoilSample | None,\n",
       " 'source': str | None,\n",
       " 'description': str | None}"
      ]
     },
     "execution_count": 41,
     "metadata": {},
     "output_type": "execute_result"
    }
   ],
   "source": [
    "# main class\n",
    "# containing both SoilModel and SoilSample\n",
    "pe.Soil.__annotations__"
   ]
  },
  {
   "cell_type": "code",
   "execution_count": 38,
   "metadata": {},
   "outputs": [
    {
     "data": {
      "text/plain": [
       "{'sand_p': float | None,\n",
       " 'silt_p': float | None,\n",
       " 'clay_p': float | None,\n",
       " 'rho': float | None,\n",
       " 'th33': float | None,\n",
       " 'th1500': float | None,\n",
       " 'om_p': float | None,\n",
       " 'm50': float | None,\n",
       " 'h': float | numpy.ndarray[typing.Any, numpy.dtype[numpy.float64]] | None,\n",
       " 'k': float | numpy.ndarray[typing.Any, numpy.dtype[numpy.float64]] | None,\n",
       " 'theta': float | numpy.ndarray[typing.Any, numpy.dtype[numpy.float64]] | None}"
      ]
     },
     "execution_count": 38,
     "metadata": {},
     "output_type": "execute_result"
    }
   ],
   "source": [
    "# class for sample measurements\n",
    "pe.SoilSample.__annotations__"
   ]
  },
  {
   "cell_type": "code",
   "execution_count": 40,
   "metadata": {},
   "outputs": [
    {
     "data": {
      "text/plain": [
       "['Brooks',\n",
       " 'Fredlund',\n",
       " 'Gardner',\n",
       " 'Genuchten',\n",
       " 'Panday',\n",
       " 'Protocol',\n",
       " 'SoilModel']"
      ]
     },
     "execution_count": 40,
     "metadata": {},
     "output_type": "execute_result"
    }
   ],
   "source": [
    "# classes for soil models\n",
    "soilmodels = [cls_name for cls_name, cls_obj in inspect.getmembers(sys.modules['pedon.soilmodel']) if inspect.isclass(cls_obj)]\n",
    "soilmodels"
   ]
  }
 ],
 "metadata": {
  "kernelspec": {
   "display_name": "pydon",
   "language": "python",
   "name": "python3"
  },
  "language_info": {
   "codemirror_mode": {
    "name": "ipython",
    "version": 3
   },
   "file_extension": ".py",
   "mimetype": "text/x-python",
   "name": "python",
   "nbconvert_exporter": "python",
   "pygments_lexer": "ipython3",
   "version": "3.10.9"
  },
  "orig_nbformat": 4
 },
 "nbformat": 4,
 "nbformat_minor": 2
}
