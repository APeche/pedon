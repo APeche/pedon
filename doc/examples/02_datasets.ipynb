{
 "cells": [
  {
   "attachments": {},
   "cell_type": "markdown",
   "metadata": {},
   "source": [
    "**Soil Parameter Datasets**\n",
    "\n",
    "Generally either the Brooks-Corey or Mualem-van Genuchten soil models are used. Pedon has some built-in datasets with parameter sets that can be used for both soil models."
   ]
  },
  {
   "cell_type": "code",
   "execution_count": 1,
   "metadata": {},
   "outputs": [],
   "source": [
    "import pedon as pe"
   ]
  },
  {
   "cell_type": "code",
   "execution_count": 2,
   "metadata": {},
   "outputs": [
    {
     "data": {
      "text/plain": [
       "['Sand',\n",
       " 'Loamy Sand',\n",
       " 'Sandy Loam',\n",
       " 'Loam',\n",
       " 'Silt',\n",
       " 'Silt Loam',\n",
       " 'Sandy Clay Loam',\n",
       " 'Clay Loam',\n",
       " 'Silty Clay Loam',\n",
       " 'Sandy Clay',\n",
       " 'Silty Clay',\n",
       " 'Clay',\n",
       " 'B01',\n",
       " 'B02',\n",
       " 'B03',\n",
       " 'B04',\n",
       " 'B05',\n",
       " 'B06',\n",
       " 'B07',\n",
       " 'B08',\n",
       " 'B09',\n",
       " 'B10',\n",
       " 'B11',\n",
       " 'B12',\n",
       " 'B13',\n",
       " 'B14',\n",
       " 'B15',\n",
       " 'B16',\n",
       " 'B17',\n",
       " 'B18',\n",
       " 'O01',\n",
       " 'O02',\n",
       " 'O03',\n",
       " 'O04',\n",
       " 'O05',\n",
       " 'O06',\n",
       " 'O07',\n",
       " 'O08',\n",
       " 'O09',\n",
       " 'O10',\n",
       " 'O11',\n",
       " 'O12',\n",
       " 'O13',\n",
       " 'O14',\n",
       " 'O15',\n",
       " 'O16',\n",
       " 'O17',\n",
       " 'O18',\n",
       " 'Medium Sand',\n",
       " 'Del Monte Sand',\n",
       " 'Fresno Medium Sand',\n",
       " 'Unconsolidated Sand',\n",
       " 'Fine Sand',\n",
       " 'Columbia Sandy Loam',\n",
       " 'Touchet Silt Loam',\n",
       " 'Hygiene Sandstone',\n",
       " 'Adelanto Loam',\n",
       " 'Limon Silt',\n",
       " 'Yolo Light Clay']"
      ]
     },
     "execution_count": 2,
     "metadata": {},
     "output_type": "execute_result"
    }
   ],
   "source": [
    "# list all soil types for van genuchten\n",
    "pe.Soil.list_names(pe.Genuchten)"
   ]
  },
  {
   "cell_type": "code",
   "execution_count": 3,
   "metadata": {},
   "outputs": [
    {
     "data": {
      "text/plain": [
       "Soil(name='Sand', model=Genuchten(k_s=712.8, theta_r=0.045, theta_s=0.43, alpha=0.145, n=2.68, l=0.5), sample=None, source='HYDRUS', description=nan)"
      ]
     },
     "execution_count": 3,
     "metadata": {},
     "output_type": "execute_result"
    }
   ],
   "source": [
    "# get the HYDRUS sand\n",
    "soil = pe.Soil(\n",
    "    name=\"Sand\",\n",
    ").from_name(sm=pe.Genuchten, source=\"HYDRUS\")\n",
    "soil"
   ]
  },
  {
   "attachments": {},
   "cell_type": "markdown",
   "metadata": {},
   "source": [
    "Note that we now have a different class; the soil class. This class has some other attributes such as the name. If the name is in the dataset (`pe.Soil.list_names(pe.Genuchten)`), the `from_name()` can retrieve the soil model. Note that we have to parse the soil model `sm` as an attribute since some soil models are available both as a Genuchten and Brooks dataset."
   ]
  },
  {
   "cell_type": "code",
   "execution_count": 4,
   "metadata": {},
   "outputs": [
    {
     "data": {
      "text/plain": [
       "Soil(name='O18', model=Genuchten(k_s=35.95, theta_r=0.01, theta_s=0.58, alpha=0.0127, n=1.32, l=-0.786), sample=SoilSample(sand_p=None, silt_p=0.0, clay_p=0.0, rho=1.1, th33=None, th1500=None, om_p=22.5, m50=nan), source='Staring_2001', description='moerige tussenlaag')"
      ]
     },
     "execution_count": 4,
     "metadata": {},
     "output_type": "execute_result"
    }
   ],
   "source": [
    "# get from the Staring series\n",
    "pe.Soil(\"O18\").from_staring(year=\"2001\")"
   ]
  },
  {
   "cell_type": "code",
   "execution_count": 6,
   "metadata": {},
   "outputs": [
    {
     "data": {
      "text/plain": [
       "Text(0.5, 1.0, 'Limon Silt')"
      ]
     },
     "execution_count": 6,
     "metadata": {},
     "output_type": "execute_result"
    },
    {
     "data": {
      "image/png": "[encoded data removed]",
      "text/plain": [
       "<Figure size 300x600 with 1 Axes>"
      ]
     },
     "metadata": {},
     "output_type": "display_data"
    }
   ],
   "source": [
    "# get for both genuchten and brooks\n",
    "ls_gen = pe.Soil(\"Limon Silt\").from_name(sm=pe.Genuchten)\n",
    "ls_bro = pe.Soil(\"Limon Silt\").from_name(sm=pe.Brooks)\n",
    "\n",
    "ax = ls_gen.model.plot()\n",
    "ls_bro.model.plot(ax=ax)\n",
    "ax.legend()\n",
    "ax.set_title(ls_gen.name)"
   ]
  }
 ],
 "metadata": {
  "kernelspec": {
   "display_name": "pydon",
   "language": "python",
   "name": "python3"
  },
  "language_info": {
   "codemirror_mode": {
    "name": "ipython",
    "version": 3
   },
   "file_extension": ".py",
   "mimetype": "text/x-python",
   "name": "python",
   "nbconvert_exporter": "python",
   "pygments_lexer": "ipython3",
   "version": "3.10.12"
  },
  "orig_nbformat": 4
 },
 "nbformat": 4,
 "nbformat_minor": 2
}
